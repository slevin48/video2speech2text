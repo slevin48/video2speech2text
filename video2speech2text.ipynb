{
 "metadata": {
  "language_info": {
   "codemirror_mode": {
    "name": "ipython",
    "version": 3
   },
   "file_extension": ".py",
   "mimetype": "text/x-python",
   "name": "python",
   "nbconvert_exporter": "python",
   "pygments_lexer": "ipython3",
   "version": "3.8.1"
  },
  "orig_nbformat": 2,
  "kernelspec": {
   "name": "pythonjvsc74a57bd056ef88f117b8b70d1759d419f6d08fa3df12235c770cdc8e92ab202426411c48",
   "display_name": "Python 3.8.1  ('env': venv)"
  },
  "metadata": {
   "interpreter": {
    "hash": "56ef88f117b8b70d1759d419f6d08fa3df12235c770cdc8e92ab202426411c48"
   }
  }
 },
 "nbformat": 4,
 "nbformat_minor": 2,
 "cells": [
  {
   "source": [
    "# Video 2 Speech 2 Text"
   ],
   "cell_type": "markdown",
   "metadata": {}
  },
  {
   "source": [
    "## 0. Download video from Youtube\n",
    "(~10 min)"
   ],
   "cell_type": "markdown",
   "metadata": {}
  },
  {
   "cell_type": "code",
   "execution_count": null,
   "metadata": {},
   "outputs": [],
   "source": [
    "import os\n",
    "os.mkdir('downloads')"
   ]
  },
  {
   "cell_type": "code",
   "execution_count": 1,
   "metadata": {},
   "outputs": [
    {
     "output_type": "stream",
     "name": "stdout",
     "text": [
      "Collecting pytube\n",
      "  Downloading pytube-10.6.0-py3-none-any.whl (42 kB)\n",
      "WARNING: You are using pip version 20.2.3; however, version 21.0.1 is available.\n",
      "You should consider upgrading via the 'd:\\devel\\video2speech2text\\env\\scripts\\python.exe -m pip install --upgrade pip' command.\n",
      "Collecting typing-extensions\n",
      "  Using cached typing_extensions-3.7.4.3-py3-none-any.whl (22 kB)\n",
      "Installing collected packages: typing-extensions, pytube\n",
      "Successfully installed pytube-10.6.0 typing-extensions-3.7.4.3\n"
     ]
    }
   ],
   "source": [
    "!pip install pytube"
   ]
  },
  {
   "cell_type": "code",
   "execution_count": 2,
   "metadata": {},
   "outputs": [],
   "source": [
    "# Steve Jobs' 2005 Stanford Commencement Address\n",
    "# https://www.youtube.com/watch?v=UF8uR6Z6KLc\n",
    "url = 'https://www.youtube.com/watch?v=UF8uR6Z6KLc'"
   ]
  },
  {
   "cell_type": "code",
   "execution_count": 3,
   "metadata": {},
   "outputs": [],
   "source": [
    "import pytube\n",
    "youtube = pytube.YouTube(url)"
   ]
  },
  {
   "cell_type": "code",
   "execution_count": 4,
   "metadata": {},
   "outputs": [
    {
     "output_type": "execute_result",
     "data": {
      "text/plain": [
       "<Stream: itag=\"18\" mime_type=\"video/mp4\" res=\"360p\" fps=\"30fps\" vcodec=\"avc1.42001E\" acodec=\"mp4a.40.2\" progressive=\"True\" type=\"video\">"
      ]
     },
     "metadata": {},
     "execution_count": 4
    }
   ],
   "source": [
    "video = youtube.streams.first()\n",
    "# or\n",
    "# video = youtube.streams.get_highest_resolution()\n",
    "video"
   ]
  },
  {
   "cell_type": "code",
   "execution_count": 6,
   "metadata": {},
   "outputs": [
    {
     "output_type": "execute_result",
     "data": {
      "text/plain": [
       "'d:\\\\devel\\\\video2speech2text\\\\downloads\\\\Steve Jobs 2005 Stanford Commencement Address.mp4'"
      ]
     },
     "metadata": {},
     "execution_count": 6
    }
   ],
   "source": [
    "video.download('downloads')"
   ]
  },
  {
   "cell_type": "code",
   "execution_count": 8,
   "metadata": {},
   "outputs": [
    {
     "output_type": "execute_result",
     "data": {
      "text/plain": [
       "\"Steve Jobs' 2005 Stanford Commencement Address\""
      ]
     },
     "metadata": {},
     "execution_count": 8
    }
   ],
   "source": [
    "video.title # Title"
   ]
  },
  {
   "source": [
    "## 1. Video to Speech\n",
    "Using MoviePy\n",
    "(~10 min)"
   ],
   "cell_type": "markdown",
   "metadata": {}
  },
  {
   "cell_type": "code",
   "execution_count": 9,
   "metadata": {},
   "outputs": [
    {
     "output_type": "stream",
     "name": "stdout",
     "text": [
      "Collecting moviepy\n",
      "  Using cached moviepy-1.0.3.tar.gz (388 kB)\n",
      "Collecting ffmpeg\n",
      "  Downloading ffmpeg-1.4.tar.gz (5.1 kB)\n",
      "Requirement already satisfied: decorator<5.0,>=4.0.2 in .\\env\\lib\\site-packages (from moviepy) (4.4.2)\n",
      "Collecting tqdm<5.0,>=4.11.2\n",
      "  Downloading tqdm-4.59.0-py2.py3-none-any.whl (74 kB)\n",
      "WARNING: You are using pip version 20.2.3; however, version 21.0.1 is available.\n",
      "You should consider upgrading via the 'd:\\devel\\video2speech2text\\env\\scripts\\python.exe -m pip install --upgrade pip' command.\n",
      "Collecting requests<3.0,>=2.8.1\n",
      "  Using cached requests-2.25.1-py2.py3-none-any.whl (61 kB)\n",
      "Collecting proglog<=1.0.0\n",
      "  Using cached proglog-0.1.9.tar.gz (10 kB)\n",
      "Collecting numpy>=1.17.3\n",
      "  Using cached numpy-1.20.1-cp39-cp39-win_amd64.whl (13.7 MB)\n",
      "Collecting imageio<3.0,>=2.5\n",
      "  Using cached imageio-2.9.0-py3-none-any.whl (3.3 MB)\n",
      "Collecting imageio_ffmpeg>=0.2.0\n",
      "  Using cached imageio_ffmpeg-0.4.3-py3-none-win_amd64.whl (22.6 MB)\n",
      "Collecting certifi>=2017.4.17\n",
      "  Using cached certifi-2020.12.5-py2.py3-none-any.whl (147 kB)\n",
      "Collecting idna<3,>=2.5\n",
      "  Using cached idna-2.10-py2.py3-none-any.whl (58 kB)\n",
      "Collecting chardet<5,>=3.0.2\n",
      "  Using cached chardet-4.0.0-py2.py3-none-any.whl (178 kB)\n",
      "Collecting urllib3<1.27,>=1.21.1\n",
      "  Downloading urllib3-1.26.4-py2.py3-none-any.whl (153 kB)\n",
      "Collecting pillow\n",
      "  Downloading Pillow-8.1.2-cp39-cp39-win_amd64.whl (2.2 MB)\n",
      "Using legacy 'setup.py install' for moviepy, since package 'wheel' is not installed.\n",
      "Using legacy 'setup.py install' for ffmpeg, since package 'wheel' is not installed.\n",
      "Using legacy 'setup.py install' for proglog, since package 'wheel' is not installed.\n",
      "Installing collected packages: tqdm, certifi, idna, chardet, urllib3, requests, proglog, numpy, pillow, imageio, imageio-ffmpeg, moviepy, ffmpeg\n",
      "    Running setup.py install for proglog: started\n",
      "    Running setup.py install for proglog: finished with status 'done'\n",
      "    Running setup.py install for moviepy: started\n",
      "    Running setup.py install for moviepy: finished with status 'done'\n",
      "    Running setup.py install for ffmpeg: started\n",
      "    Running setup.py install for ffmpeg: finished with status 'done'\n",
      "Successfully installed certifi-2020.12.5 chardet-4.0.0 ffmpeg-1.4 idna-2.10 imageio-2.9.0 imageio-ffmpeg-0.4.3 moviepy-1.0.3 numpy-1.20.1 pillow-8.1.2 proglog-0.1.9 requests-2.25.1 tqdm-4.59.0 urllib3-1.26.4\n"
     ]
    }
   ],
   "source": [
    "!pip install moviepy ffmpeg"
   ]
  },
  {
   "cell_type": "code",
   "execution_count": 10,
   "metadata": {},
   "outputs": [],
   "source": [
    "import moviepy.editor as mp"
   ]
  },
  {
   "cell_type": "code",
   "execution_count": 12,
   "metadata": {},
   "outputs": [
    {
     "output_type": "execute_result",
     "data": {
      "text/plain": [
       "['Steve Jobs 2005 Stanford Commencement Address.mp4']"
      ]
     },
     "metadata": {},
     "execution_count": 12
    }
   ],
   "source": [
    "import os\n",
    "dl = os.listdir(\"downloads\")\n",
    "dl"
   ]
  },
  {
   "cell_type": "code",
   "execution_count": 13,
   "metadata": {},
   "outputs": [],
   "source": [
    "my_clip = mp.VideoFileClip(r\"downloads/Steve Jobs 2005 Stanford Commencement Address.mp4\")"
   ]
  },
  {
   "cell_type": "code",
   "execution_count": 14,
   "metadata": {},
   "outputs": [
    {
     "output_type": "execute_result",
     "data": {
      "text/plain": [
       "<moviepy.video.io.VideoFileClip.VideoFileClip at 0x22dd598eb80>"
      ]
     },
     "metadata": {},
     "execution_count": 14
    }
   ],
   "source": [
    "my_clip"
   ]
  },
  {
   "cell_type": "code",
   "execution_count": 44,
   "metadata": {},
   "outputs": [
    {
     "output_type": "execute_result",
     "data": {
      "text/plain": [
       "904.28"
      ]
     },
     "metadata": {},
     "execution_count": 44
    }
   ],
   "source": [
    "duration = my_clip.duration\n",
    "duration"
   ]
  },
  {
   "cell_type": "code",
   "execution_count": 15,
   "metadata": {},
   "outputs": [
    {
     "output_type": "stream",
     "name": "stderr",
     "text": [
      "chunk:   0%|          | 3/19940 [00:00<11:15, 29.50it/s, now=None]MoviePy - Writing audio in downloads/steve.mp3\n",
      "                                                                        MoviePy - Done.\n"
     ]
    }
   ],
   "source": [
    "my_clip.audio.write_audiofile(r\"downloads/steve.mp3\")"
   ]
  },
  {
   "cell_type": "code",
   "execution_count": 32,
   "metadata": {},
   "outputs": [
    {
     "output_type": "stream",
     "name": "stderr",
     "text": [
      "chunk:   0%|          | 2/19940 [00:00<24:49, 13.38it/s, now=None]MoviePy - Writing audio in downloads/steve.wav\n",
      "                                                                        MoviePy - Done.\n"
     ]
    }
   ],
   "source": [
    "my_clip.audio.write_audiofile(r\"downloads/steve.wav\")"
   ]
  },
  {
   "source": [
    "Translate mp3 to wav\n",
    "(failed = lost ~10 min)"
   ],
   "cell_type": "markdown",
   "metadata": {}
  },
  {
   "cell_type": "code",
   "execution_count": 20,
   "metadata": {},
   "outputs": [
    {
     "output_type": "stream",
     "name": "stdout",
     "text": [
      "Collecting pydub\n",
      "  Downloading pydub-0.25.1-py2.py3-none-any.whl (32 kB)\n",
      "Installing collected packages: pydub\n",
      "Successfully installed pydub-0.25.1\n",
      "Note: you may need to restart the kernel to use updated packages.\n",
      "WARNING: You are using pip version 20.2.3; however, version 21.0.1 is available.\n",
      "You should consider upgrading via the 'd:\\devel\\video2speech2text\\env\\Scripts\\python.exe -m pip install --upgrade pip' command.\n"
     ]
    }
   ],
   "source": [
    "pip install pydub"
   ]
  },
  {
   "cell_type": "code",
   "execution_count": 25,
   "metadata": {},
   "outputs": [
    {
     "output_type": "execute_result",
     "data": {
      "text/plain": [
       "'d:\\\\devel\\\\video2speech2text\\\\downloads'"
      ]
     },
     "metadata": {},
     "execution_count": 25
    }
   ],
   "source": [
    "import os\n",
    "os.chdir(\"downloads\")\n",
    "os.getcwd()"
   ]
  },
  {
   "cell_type": "code",
   "execution_count": 29,
   "metadata": {},
   "outputs": [],
   "source": [
    "os.chdir(\"..\")"
   ]
  },
  {
   "cell_type": "code",
   "execution_count": 31,
   "metadata": {},
   "outputs": [
    {
     "output_type": "execute_result",
     "data": {
      "text/plain": [
       "['convert.py',\n",
       " 'Steve Jobs 2005 Stanford Commencement Address.mp4',\n",
       " 'steve.mp3']"
      ]
     },
     "metadata": {},
     "execution_count": 31
    }
   ],
   "source": [
    "os.listdir(\"downloads\")"
   ]
  },
  {
   "cell_type": "code",
   "execution_count": 30,
   "metadata": {},
   "outputs": [
    {
     "output_type": "error",
     "ename": "FileNotFoundError",
     "evalue": "[WinError 2] Le fichier spécifié est introuvable",
     "traceback": [
      "\u001b[1;31m---------------------------------------------------------------------------\u001b[0m",
      "\u001b[1;31mFileNotFoundError\u001b[0m                         Traceback (most recent call last)",
      "\u001b[1;32m<ipython-input-30-bf4c7acd4bad>\u001b[0m in \u001b[0;36m<module>\u001b[1;34m\u001b[0m\n\u001b[0;32m      6\u001b[0m \u001b[1;33m\u001b[0m\u001b[0m\n\u001b[0;32m      7\u001b[0m \u001b[1;31m# convert wav to mp3\u001b[0m\u001b[1;33m\u001b[0m\u001b[1;33m\u001b[0m\u001b[1;33m\u001b[0m\u001b[0m\n\u001b[1;32m----> 8\u001b[1;33m \u001b[0msound\u001b[0m \u001b[1;33m=\u001b[0m \u001b[0mAudioSegment\u001b[0m\u001b[1;33m.\u001b[0m\u001b[0mfrom_mp3\u001b[0m\u001b[1;33m(\u001b[0m\u001b[0msrc\u001b[0m\u001b[1;33m)\u001b[0m\u001b[1;33m\u001b[0m\u001b[1;33m\u001b[0m\u001b[0m\n\u001b[0m\u001b[0;32m      9\u001b[0m \u001b[0msound\u001b[0m\u001b[1;33m.\u001b[0m\u001b[0mexport\u001b[0m\u001b[1;33m(\u001b[0m\u001b[0mdst\u001b[0m\u001b[1;33m,\u001b[0m \u001b[0mformat\u001b[0m\u001b[1;33m=\u001b[0m\u001b[1;34m\"wav\"\u001b[0m\u001b[1;33m)\u001b[0m\u001b[1;33m\u001b[0m\u001b[1;33m\u001b[0m\u001b[0m\n",
      "\u001b[1;32md:\\devel\\video2speech2text\\env\\lib\\site-packages\\pydub\\audio_segment.py\u001b[0m in \u001b[0;36mfrom_mp3\u001b[1;34m(cls, file, parameters)\u001b[0m\n\u001b[0;32m    794\u001b[0m     \u001b[1;33m@\u001b[0m\u001b[0mclassmethod\u001b[0m\u001b[1;33m\u001b[0m\u001b[1;33m\u001b[0m\u001b[0m\n\u001b[0;32m    795\u001b[0m     \u001b[1;32mdef\u001b[0m \u001b[0mfrom_mp3\u001b[0m\u001b[1;33m(\u001b[0m\u001b[0mcls\u001b[0m\u001b[1;33m,\u001b[0m \u001b[0mfile\u001b[0m\u001b[1;33m,\u001b[0m \u001b[0mparameters\u001b[0m\u001b[1;33m=\u001b[0m\u001b[1;32mNone\u001b[0m\u001b[1;33m)\u001b[0m\u001b[1;33m:\u001b[0m\u001b[1;33m\u001b[0m\u001b[1;33m\u001b[0m\u001b[0m\n\u001b[1;32m--> 796\u001b[1;33m         \u001b[1;32mreturn\u001b[0m \u001b[0mcls\u001b[0m\u001b[1;33m.\u001b[0m\u001b[0mfrom_file\u001b[0m\u001b[1;33m(\u001b[0m\u001b[0mfile\u001b[0m\u001b[1;33m,\u001b[0m \u001b[1;34m'mp3'\u001b[0m\u001b[1;33m,\u001b[0m \u001b[0mparameters\u001b[0m\u001b[1;33m=\u001b[0m\u001b[0mparameters\u001b[0m\u001b[1;33m)\u001b[0m\u001b[1;33m\u001b[0m\u001b[1;33m\u001b[0m\u001b[0m\n\u001b[0m\u001b[0;32m    797\u001b[0m \u001b[1;33m\u001b[0m\u001b[0m\n\u001b[0;32m    798\u001b[0m     \u001b[1;33m@\u001b[0m\u001b[0mclassmethod\u001b[0m\u001b[1;33m\u001b[0m\u001b[1;33m\u001b[0m\u001b[0m\n",
      "\u001b[1;32md:\\devel\\video2speech2text\\env\\lib\\site-packages\\pydub\\audio_segment.py\u001b[0m in \u001b[0;36mfrom_file\u001b[1;34m(cls, file, format, codec, parameters, start_second, duration, **kwargs)\u001b[0m\n\u001b[0;32m    726\u001b[0m             \u001b[0minfo\u001b[0m \u001b[1;33m=\u001b[0m \u001b[1;32mNone\u001b[0m\u001b[1;33m\u001b[0m\u001b[1;33m\u001b[0m\u001b[0m\n\u001b[0;32m    727\u001b[0m         \u001b[1;32melse\u001b[0m\u001b[1;33m:\u001b[0m\u001b[1;33m\u001b[0m\u001b[1;33m\u001b[0m\u001b[0m\n\u001b[1;32m--> 728\u001b[1;33m             \u001b[0minfo\u001b[0m \u001b[1;33m=\u001b[0m \u001b[0mmediainfo_json\u001b[0m\u001b[1;33m(\u001b[0m\u001b[0morig_file\u001b[0m\u001b[1;33m,\u001b[0m \u001b[0mread_ahead_limit\u001b[0m\u001b[1;33m=\u001b[0m\u001b[0mread_ahead_limit\u001b[0m\u001b[1;33m)\u001b[0m\u001b[1;33m\u001b[0m\u001b[1;33m\u001b[0m\u001b[0m\n\u001b[0m\u001b[0;32m    729\u001b[0m         \u001b[1;32mif\u001b[0m \u001b[0minfo\u001b[0m\u001b[1;33m:\u001b[0m\u001b[1;33m\u001b[0m\u001b[1;33m\u001b[0m\u001b[0m\n\u001b[0;32m    730\u001b[0m             audio_streams = [x for x in info['streams']\n",
      "\u001b[1;32md:\\devel\\video2speech2text\\env\\lib\\site-packages\\pydub\\utils.py\u001b[0m in \u001b[0;36mmediainfo_json\u001b[1;34m(filepath, read_ahead_limit)\u001b[0m\n\u001b[0;32m    272\u001b[0m \u001b[1;33m\u001b[0m\u001b[0m\n\u001b[0;32m    273\u001b[0m     \u001b[0mcommand\u001b[0m \u001b[1;33m=\u001b[0m \u001b[1;33m[\u001b[0m\u001b[0mprober\u001b[0m\u001b[1;33m,\u001b[0m \u001b[1;34m'-of'\u001b[0m\u001b[1;33m,\u001b[0m \u001b[1;34m'json'\u001b[0m\u001b[1;33m]\u001b[0m \u001b[1;33m+\u001b[0m \u001b[0mcommand_args\u001b[0m\u001b[1;33m\u001b[0m\u001b[1;33m\u001b[0m\u001b[0m\n\u001b[1;32m--> 274\u001b[1;33m     \u001b[0mres\u001b[0m \u001b[1;33m=\u001b[0m \u001b[0mPopen\u001b[0m\u001b[1;33m(\u001b[0m\u001b[0mcommand\u001b[0m\u001b[1;33m,\u001b[0m \u001b[0mstdin\u001b[0m\u001b[1;33m=\u001b[0m\u001b[0mstdin_parameter\u001b[0m\u001b[1;33m,\u001b[0m \u001b[0mstdout\u001b[0m\u001b[1;33m=\u001b[0m\u001b[0mPIPE\u001b[0m\u001b[1;33m,\u001b[0m \u001b[0mstderr\u001b[0m\u001b[1;33m=\u001b[0m\u001b[0mPIPE\u001b[0m\u001b[1;33m)\u001b[0m\u001b[1;33m\u001b[0m\u001b[1;33m\u001b[0m\u001b[0m\n\u001b[0m\u001b[0;32m    275\u001b[0m     \u001b[0moutput\u001b[0m\u001b[1;33m,\u001b[0m \u001b[0mstderr\u001b[0m \u001b[1;33m=\u001b[0m \u001b[0mres\u001b[0m\u001b[1;33m.\u001b[0m\u001b[0mcommunicate\u001b[0m\u001b[1;33m(\u001b[0m\u001b[0minput\u001b[0m\u001b[1;33m=\u001b[0m\u001b[0mstdin_data\u001b[0m\u001b[1;33m)\u001b[0m\u001b[1;33m\u001b[0m\u001b[1;33m\u001b[0m\u001b[0m\n\u001b[0;32m    276\u001b[0m     \u001b[0moutput\u001b[0m \u001b[1;33m=\u001b[0m \u001b[0moutput\u001b[0m\u001b[1;33m.\u001b[0m\u001b[0mdecode\u001b[0m\u001b[1;33m(\u001b[0m\u001b[1;34m\"utf-8\"\u001b[0m\u001b[1;33m,\u001b[0m \u001b[1;34m'ignore'\u001b[0m\u001b[1;33m)\u001b[0m\u001b[1;33m\u001b[0m\u001b[1;33m\u001b[0m\u001b[0m\n",
      "\u001b[1;32m~\\AppData\\Local\\Programs\\Python\\Python39\\lib\\subprocess.py\u001b[0m in \u001b[0;36m__init__\u001b[1;34m(self, args, bufsize, executable, stdin, stdout, stderr, preexec_fn, close_fds, shell, cwd, env, universal_newlines, startupinfo, creationflags, restore_signals, start_new_session, pass_fds, user, group, extra_groups, encoding, errors, text, umask)\u001b[0m\n\u001b[0;32m    945\u001b[0m                             encoding=encoding, errors=errors)\n\u001b[0;32m    946\u001b[0m \u001b[1;33m\u001b[0m\u001b[0m\n\u001b[1;32m--> 947\u001b[1;33m             self._execute_child(args, executable, preexec_fn, close_fds,\n\u001b[0m\u001b[0;32m    948\u001b[0m                                 \u001b[0mpass_fds\u001b[0m\u001b[1;33m,\u001b[0m \u001b[0mcwd\u001b[0m\u001b[1;33m,\u001b[0m \u001b[0menv\u001b[0m\u001b[1;33m,\u001b[0m\u001b[1;33m\u001b[0m\u001b[1;33m\u001b[0m\u001b[0m\n\u001b[0;32m    949\u001b[0m                                 \u001b[0mstartupinfo\u001b[0m\u001b[1;33m,\u001b[0m \u001b[0mcreationflags\u001b[0m\u001b[1;33m,\u001b[0m \u001b[0mshell\u001b[0m\u001b[1;33m,\u001b[0m\u001b[1;33m\u001b[0m\u001b[1;33m\u001b[0m\u001b[0m\n",
      "\u001b[1;32m~\\AppData\\Local\\Programs\\Python\\Python39\\lib\\subprocess.py\u001b[0m in \u001b[0;36m_execute_child\u001b[1;34m(self, args, executable, preexec_fn, close_fds, pass_fds, cwd, env, startupinfo, creationflags, shell, p2cread, p2cwrite, c2pread, c2pwrite, errread, errwrite, unused_restore_signals, unused_gid, unused_gids, unused_uid, unused_umask, unused_start_new_session)\u001b[0m\n\u001b[0;32m   1414\u001b[0m             \u001b[1;31m# Start the process\u001b[0m\u001b[1;33m\u001b[0m\u001b[1;33m\u001b[0m\u001b[1;33m\u001b[0m\u001b[0m\n\u001b[0;32m   1415\u001b[0m             \u001b[1;32mtry\u001b[0m\u001b[1;33m:\u001b[0m\u001b[1;33m\u001b[0m\u001b[1;33m\u001b[0m\u001b[0m\n\u001b[1;32m-> 1416\u001b[1;33m                 hp, ht, pid, tid = _winapi.CreateProcess(executable, args,\n\u001b[0m\u001b[0;32m   1417\u001b[0m                                          \u001b[1;31m# no special security\u001b[0m\u001b[1;33m\u001b[0m\u001b[1;33m\u001b[0m\u001b[1;33m\u001b[0m\u001b[0m\n\u001b[0;32m   1418\u001b[0m                                          \u001b[1;32mNone\u001b[0m\u001b[1;33m,\u001b[0m \u001b[1;32mNone\u001b[0m\u001b[1;33m,\u001b[0m\u001b[1;33m\u001b[0m\u001b[1;33m\u001b[0m\u001b[0m\n",
      "\u001b[1;31mFileNotFoundError\u001b[0m: [WinError 2] Le fichier spécifié est introuvable"
     ]
    }
   ],
   "source": [
    "from os import path\n",
    "from pydub import AudioSegment\n",
    "\n",
    "src = \"downloads/steve.mp3\"\n",
    "dst = \"downloads/steve.wav\"\n",
    "\n",
    "# convert wav to mp3                                                            \n",
    "sound = AudioSegment.from_mp3(src)\n",
    "sound.export(dst, format=\"wav\")"
   ]
  },
  {
   "source": [
    "## 2. Speech to text\n",
    "(~40 min)"
   ],
   "cell_type": "markdown",
   "metadata": {}
  },
  {
   "cell_type": "code",
   "execution_count": 16,
   "metadata": {},
   "outputs": [
    {
     "output_type": "stream",
     "name": "stdout",
     "text": [
      "Collecting speechrecognition\n",
      "Note: you may need to restart the kernel to use updated packages.  Downloading SpeechRecognition-3.8.1-py2.py3-none-any.whl (32.8 MB)\n",
      "\n",
      "Collecting pocketsphinx\n",
      "  Downloading pocketsphinx-0.1.15.tar.gz (29.1 MB)\n",
      "Using legacy 'setup.py install' for pocketsphinx, since package 'wheel' is not installed.\n",
      "Installing collected packages: speechrecognition, pocketsphinx\n",
      "    Running setup.py install for pocketsphinx: started\n",
      "    Running setup.py install for pocketsphinx: finished with status 'error'\n",
      "    ERROR: Command errored out with exit status 1:\n",
      "     command: 'd:\\devel\\video2speech2text\\env\\Scripts\\python.exe' -u -c 'import sys, setuptools, tokenize; sys.argv[0] = '\"'\"'C:\\\\Users\\\\badmo\\\\AppData\\\\Local\\\\Temp\\\\pip-install-84lzjfqr\\\\pocketsphinx\\\\setup.py'\"'\"'; __file__='\"'\"'C:\\\\Users\\\\badmo\\\\AppData\\\\Local\\\\Temp\\\\pip-install-84lzjfqr\\\\pocketsphinx\\\\setup.py'\"'\"';f=getattr(tokenize, '\"'\"'open'\"'\"', open)(__file__);code=f.read().replace('\"'\"'\\r\\n'\"'\"', '\"'\"'\\n'\"'\"');f.close();exec(compile(code, __file__, '\"'\"'exec'\"'\"'))' install --record 'C:\\Users\\badmo\\AppData\\Local\\Temp\\pip-record-1klq1kib\\install-record.txt' --single-version-externally-managed --compile --install-headers 'd:\\devel\\video2speech2text\\env\\include\\site\\python3.9\\pocketsphinx'\n",
      "         cwd: C:\\Users\\badmo\\AppData\\Local\\Temp\\pip-install-84lzjfqr\\pocketsphinx\\\n",
      "    Complete output (6 lines):\n",
      "    running install\n",
      "    running build_ext\n",
      "    building 'sphinxbase._sphinxbase' extension\n",
      "    swigging deps/sphinxbase/swig/sphinxbase.i to deps/sphinxbase/swig/sphinxbase_wrap.c\n",
      "    swig.exe -python -modern -threads -Ideps/sphinxbase/include -Ideps/sphinxbase/include/sphinxbase -Ideps/sphinxbase/include/win32 -Ideps/sphinxbase/swig -outdir sphinxbase -o deps/sphinxbase/swig/sphinxbase_wrap.c deps/sphinxbase/swig/sphinxbase.i\n",
      "    error: command 'swig.exe' failed: None\n",
      "    ----------------------------------------\n",
      "ERROR: Command errored out with exit status 1: 'd:\\devel\\video2speech2text\\env\\Scripts\\python.exe' -u -c 'import sys, setuptools, tokenize; sys.argv[0] = '\"'\"'C:\\\\Users\\\\badmo\\\\AppData\\\\Local\\\\Temp\\\\pip-install-84lzjfqr\\\\pocketsphinx\\\\setup.py'\"'\"'; __file__='\"'\"'C:\\\\Users\\\\badmo\\\\AppData\\\\Local\\\\Temp\\\\pip-install-84lzjfqr\\\\pocketsphinx\\\\setup.py'\"'\"';f=getattr(tokenize, '\"'\"'open'\"'\"', open)(__file__);code=f.read().replace('\"'\"'\\r\\n'\"'\"', '\"'\"'\\n'\"'\"');f.close();exec(compile(code, __file__, '\"'\"'exec'\"'\"'))' install --record 'C:\\Users\\badmo\\AppData\\Local\\Temp\\pip-record-1klq1kib\\install-record.txt' --single-version-externally-managed --compile --install-headers 'd:\\devel\\video2speech2text\\env\\include\\site\\python3.9\\pocketsphinx' Check the logs for full command output.\n",
      "WARNING: You are using pip version 20.2.3; however, version 21.0.1 is available.\n",
      "You should consider upgrading via the 'd:\\devel\\video2speech2text\\env\\Scripts\\python.exe -m pip install --upgrade pip' command.\n"
     ]
    }
   ],
   "source": [
    "pip install speechrecognition pocketsphinx"
   ]
  },
  {
   "cell_type": "code",
   "execution_count": 17,
   "metadata": {},
   "outputs": [
    {
     "output_type": "execute_result",
     "data": {
      "text/plain": [
       "'3.8.1'"
      ]
     },
     "metadata": {},
     "execution_count": 17
    }
   ],
   "source": [
    "import speech_recognition as sr\n",
    "sr.__version__"
   ]
  },
  {
   "cell_type": "code",
   "execution_count": 18,
   "metadata": {},
   "outputs": [],
   "source": [
    "r = sr.Recognizer()"
   ]
  },
  {
   "cell_type": "code",
   "execution_count": 41,
   "metadata": {},
   "outputs": [],
   "source": [
    "steve = sr.AudioFile('downloads/steve.wav')\n",
    "with steve as source:\n",
    "   audio = r.record(source, duration=60)"
   ]
  },
  {
   "cell_type": "code",
   "execution_count": 46,
   "metadata": {},
   "outputs": [
    {
     "output_type": "execute_result",
     "data": {
      "text/plain": [
       "\"this program is brought to you by Stanford University please visit us at stanford.edu thank you i'mma honoured to be with you today for your commencement from one of the finest universities in the world truth be told I never from college and this is the closest I've ever gotten to a College graduation today I want to tell you three stories from my life that's it no big deal just three stories the first story is about connecting the dots\""
      ]
     },
     "metadata": {},
     "execution_count": 46
    }
   ],
   "source": [
    "txt = r.recognize_google(audio)\n",
    "txt"
   ]
  },
  {
   "cell_type": "code",
   "execution_count": 47,
   "metadata": {},
   "outputs": [],
   "source": [
    "with open(\"downloads/steve.txt\",\"w\") as f:\n",
    "    f.write(txt)"
   ]
  },
  {
   "cell_type": "code",
   "execution_count": 56,
   "metadata": {},
   "outputs": [],
   "source": [
    "# break in 60 sec intervals\n",
    "steve = sr.AudioFile('downloads/steve.wav')\n",
    "i = 0\n",
    "audiolist = []\n",
    "while i*60 < dur:\n",
    "    with steve as source:\n",
    "        audio = r.record(source, offset=i*60, duration=60)\n",
    "        audiolist.append(audio)\n",
    "    i += 1"
   ]
  },
  {
   "cell_type": "code",
   "execution_count": 59,
   "metadata": {},
   "outputs": [],
   "source": [
    "with open(\"downloads/steve.txt\",\"w\") as f:\n",
    "    for audio in audiolist:\n",
    "        txt = r.recognize_google(audio)\n",
    "        f.write(txt)"
   ]
  },
  {
   "source": [
    "### Base 64 Encode"
   ],
   "cell_type": "markdown",
   "metadata": {}
  },
  {
   "cell_type": "code",
   "execution_count": 1,
   "metadata": {},
   "outputs": [],
   "source": [
    "data = open(\"downloads/speech.txt\", \"r\").read()"
   ]
  },
  {
   "cell_type": "code",
   "execution_count": 3,
   "metadata": {},
   "outputs": [],
   "source": [
    "import base64\n",
    "b64 = base64.b64encode(data.encode('ascii'))"
   ]
  },
  {
   "cell_type": "code",
   "execution_count": 4,
   "metadata": {},
   "outputs": [
    {
     "output_type": "execute_result",
     "data": {
      "text/plain": [
       "b'c3RpbGwgZG8gYW55dGhpbmcgZWxzZSBsb29rIGFyb3VuZCB3ZSB3ZXJlIHRoaXMgdG8gZ2V0IGl0IEknbSBub3cgbm8gc3dpbSB5b3UgaXQncyBubyBubyBubyBubyBubyBub2xldCBtZSBkb3duIGhlcmUgdG8ga2VlcCB1cyBkb3duIHdlbGwgSSB3YXMgZG93biBqdXN0IHRha2luZyBvdmVyIHRoZSBwbGFjZSB3aXRoIHlvdSBJIHJlYWxseSB3YW50ZWQgeW91IHRvIHRhbGsgYWJvdXQgbm8gbm8gbm8gbm8gbm9zaGUgbG9va3Mgc2lsdmVyIEFtZXJpY2FuIEFwcGFyZWwgdW5kZXJ3ZWFyIGFuZCBjbG9zZXIgSSdtIHNvIGRvd24='"
      ]
     },
     "metadata": {},
     "execution_count": 4
    }
   ],
   "source": [
    "b64"
   ]
  }
 ]
}